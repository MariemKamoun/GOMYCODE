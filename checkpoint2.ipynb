{
 "cells": [
  {
   "cell_type": "code",
   "execution_count": 4,
   "id": "09aa7e91",
   "metadata": {},
   "outputs": [
    {
     "name": "stdout",
     "output_type": "stream",
     "text": [
      "Kamoun   Mariem\n"
     ]
    }
   ],
   "source": [
    "#question1\n",
    "N=\"Mariem\"\n",
    "P=\"Kamoun\"\n",
    "print(P,\" \",N)"
   ]
  },
  {
   "cell_type": "code",
   "execution_count": 17,
   "id": "da26a2ba",
   "metadata": {},
   "outputs": [
    {
     "name": "stdout",
     "output_type": "stream",
     "text": [
      "un entier n5\n",
      "615 ( 5 + 55 + 555 )\n"
     ]
    }
   ],
   "source": [
    "#question2\n",
    "n=input(\"un entier n\")\n",
    "S=(int(n)+int(n+n)+int(n+n+n))\n",
    "print(S,\"(\",n,\"+\",n+n,\"+\",n+n+n,\")\")"
   ]
  },
  {
   "cell_type": "code",
   "execution_count": 11,
   "id": "92a1cc99",
   "metadata": {},
   "outputs": [
    {
     "name": "stdout",
     "output_type": "stream",
     "text": [
      "un entier n8\n",
      "even\n"
     ]
    }
   ],
   "source": [
    "#question3\n",
    "n=input(\"un entier n\")\n",
    "n=int(n)\n",
    "if n%2==0:\n",
    "    print(\"even\")\n",
    "else: \n",
    "    print(\"odd\")"
   ]
  },
  {
   "cell_type": "code",
   "execution_count": 12,
   "id": "760d0169",
   "metadata": {},
   "outputs": [
    {
     "name": "stdout",
     "output_type": "stream",
     "text": [
      " 2002 2009 2016 2023 2037 2044 2051 2058 2072 2079 2086 2093 2107 2114 2121 2128 2142 2149 2156 2163 2177 2184 2191 2198 2212 2219 2226 2233 2247 2254 2261 2268 2282 2289 2296 2303 2317 2324 2331 2338 2352 2359 2366 2373 2387 2394 2401 2408 2422 2429 2436 2443 2457 2464 2471 2478 2492 2499 2506 2513 2527 2534 2541 2548 2562 2569 2576 2583 2597 2604 2611 2618 2632 2639 2646 2653 2667 2674 2681 2688 2702 2709 2716 2723 2737 2744 2751 2758 2772 2779 2786 2793 2807 2814 2821 2828 2842 2849 2856 2863 2877 2884 2891 2898 2912 2919 2926 2933 2947 2954 2961 2968 2982 2989 2996 3003 3017 3024 3031 3038 3052 3059 3066 3073 3087 3094 3101 3108 3122 3129 3136 3143 3157 3164 3171 3178 3192 3199\n"
     ]
    }
   ],
   "source": [
    "#question4\n",
    "S=\"\"\n",
    "for n in range(2000,3200):\n",
    "    if (n%7==0) and (n%5!=0):\n",
    "        S=S+\" \"+str(n)\n",
    "    \n",
    "print(S)"
   ]
  },
  {
   "cell_type": "code",
   "execution_count": 13,
   "id": "9b156750",
   "metadata": {},
   "outputs": [
    {
     "name": "stdout",
     "output_type": "stream",
     "text": [
      "entrer un entier5\n",
      "120\n"
     ]
    }
   ],
   "source": [
    "#question5\n",
    "from math import factorial\n",
    "x=input(\"entrer un entier\")\n",
    "x=int(x)\n",
    "fact=factorial(x)\n",
    "print(fact)"
   ]
  },
  {
   "cell_type": "code",
   "execution_count": 21,
   "id": "791955f0",
   "metadata": {},
   "outputs": [
    {
     "name": "stdout",
     "output_type": "stream",
     "text": [
      "entrer une chaine de caractèreuyfgfuagfugufagu\n",
      "uffafgfg\n"
     ]
    }
   ],
   "source": [
    "#question6\n",
    "ch1=\"\"\n",
    "ch=input(\"entrer une chaine de caractère\")\n",
    "for i in range (len(ch)):\n",
    "    if i%2==0:\n",
    "        ch1=ch1+ch[i]\n",
    "print(ch1)\n"
   ]
  },
  {
   "cell_type": "code",
   "execution_count": 23,
   "id": "7d9229a3",
   "metadata": {},
   "outputs": [
    {
     "name": "stdout",
     "output_type": "stream",
     "text": [
      "entre un entier n500\n",
      "250.0\n"
     ]
    }
   ],
   "source": [
    "#question7\n",
    "n=input(\"entre un entier n\")\n",
    "n=int(n)\n",
    "if n>=500:\n",
    "    print(n*(1-50/100))\n",
    "elif n>=200 and n<500:\n",
    "    print(n*(1-30/100))\n",
    "else:\n",
    "    print(n*(1-10/100))\n",
    " "
   ]
  },
  {
   "cell_type": "code",
   "execution_count": null,
   "id": "565e92b3",
   "metadata": {},
   "outputs": [],
   "source": []
  },
  {
   "cell_type": "code",
   "execution_count": null,
   "id": "970bbc22",
   "metadata": {},
   "outputs": [],
   "source": []
  }
 ],
 "metadata": {
  "kernelspec": {
   "display_name": "Python 3",
   "language": "python",
   "name": "python3"
  },
  "language_info": {
   "codemirror_mode": {
    "name": "ipython",
    "version": 3
   },
   "file_extension": ".py",
   "mimetype": "text/x-python",
   "name": "python",
   "nbconvert_exporter": "python",
   "pygments_lexer": "ipython3",
   "version": "3.8.8"
  }
 },
 "nbformat": 4,
 "nbformat_minor": 5
}
